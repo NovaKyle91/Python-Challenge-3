{
 "cells": [
  {
   "cell_type": "code",
   "execution_count": 1,
   "metadata": {},
   "outputs": [
    {
     "name": "stdout",
     "output_type": "stream",
     "text": [
      "Financial Analysis\n",
      "----------------------------\n",
      "Total Months: 86\n",
      "Total: $22564198\n",
      "Average Change: $-8311.11\n",
      "Greatest Increase in Profits: Aug-16($1862002)\n",
      "Greatest Decrease in Profits: Feb-14($-1825558)\n"
     ]
    }
   ],
   "source": [
    "import os\n",
    "import csv\n",
    "\n",
    "\n",
    "find_path = \"Resources/budget_data.csv\"\n",
    "output_file = \"Financial Analysis.csv\"\n",
    "\n",
    "\n",
    "with open(find_path) as csv_file:\n",
    "   \n",
    "    csv_reader = csv.reader(csv_file, delimiter=',')\n",
    "    csv_header = next(csv_reader)\n",
    "    \n",
    "    months = 0\n",
    "    total = 0\n",
    "    second_row = 0\n",
    "    first_row = 0\n",
    "    month_change = 0\n",
    "    total_month_change = []\n",
    "    date = []\n",
    "#Looping through looking at months and the total # of months included\n",
    "    for row in csv_reader: \n",
    "        months += 1\n",
    "#Over the entire period, the net total amount and average of the changes of Profit/Losses. In terms of profits, what is the greatest increase and decrease?\n",
    "        first_row = int(row[1])\n",
    "        total += int(row[1])\n",
    "\n",
    "        if (months==1):\n",
    "            second_row = first_row\n",
    "        else:\n",
    "            month_change = first_row - second_row\n",
    "            date.append(row[0])\n",
    "            total_month_change.append(month_change)\n",
    "            second_row = first_row\n",
    "    average = round(sum(total_month_change)/(months - 1), 2)\n",
    "    greatest_increase = max(total_month_change)\n",
    "    greatest_decrease = min(total_month_change)\n",
    "        \n",
    "    increase_date = date[total_month_change.index(greatest_increase)]\n",
    "    decrease_date = date[total_month_change.index(greatest_decrease)]\n",
    "    \n",
    "  \n",
    "    print(f\"Financial Analysis\")\n",
    "    print(f\"----------------------------\")\n",
    "    print(f\"Total Months: {months}\")\n",
    "    print(f\"Total: ${total}\")\n",
    "    print(f\"Average Change: ${average}\")\n",
    "    print(f\"Greatest Increase in Profits: {increase_date}(${greatest_increase})\")\n",
    "    print(f\"Greatest Decrease in Profits: {decrease_date}(${greatest_decrease})\")\n",
    "\n",
    "#Opening the created output file and write results.\n",
    "with open(output_file, \"w\") as text:\n",
    "    text.write(f\"Financial Analysis\\n\")\n",
    "    text.write(f\"----------------------------\\n\")\n",
    "    text.write(f\"Total Months: {months}\\n\")\n",
    "    text.write(f\"Total: ${total}\\n\")\n",
    "    text.write(f\"Average Change: ${average}\\n\")\n",
    "    text.write(f\"Greatest Increase in Profits: {increase_date}(${greatest_increase})\\n\")\n",
    "    text.write(f\"Greatest Decrease in Profits: {decrease_date}(${greatest_decrease})\")"
   ]
  }
 ],
 "metadata": {
  "kernelspec": {
   "display_name": "base",
   "language": "python",
   "name": "python3"
  },
  "language_info": {
   "codemirror_mode": {
    "name": "ipython",
    "version": 3
   },
   "file_extension": ".py",
   "mimetype": "text/x-python",
   "name": "python",
   "nbconvert_exporter": "python",
   "pygments_lexer": "ipython3",
   "version": "3.11.5"
  }
 },
 "nbformat": 4,
 "nbformat_minor": 2
}
