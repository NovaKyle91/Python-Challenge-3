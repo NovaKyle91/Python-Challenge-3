{
 "cells": [
  {
   "cell_type": "code",
   "execution_count": 1,
   "metadata": {},
   "outputs": [
    {
     "name": "stdout",
     "output_type": "stream",
     "text": [
      "Election Results\n",
      "--------------------------\n",
      "Total Votes: 369711\n",
      "--------------------------\n",
      "Charles Casper Stockham: 23.049% (85213)\n",
      "Diana DeGette: 73.812% (272892)\n",
      "Raymon Anthony Doane: 3.139% (11606)\n",
      "--------------------------\n",
      "Winner: Diana DeGette\n",
      "--------------------------\n"
     ]
    }
   ],
   "source": [
    "import os\n",
    "import csv\n",
    "\n",
    "file_path = (\"../Resources/election_data.csv\")\n",
    "output_file = \"Election_Results.csv\"\n",
    "\n",
    "candidates = []\n",
    "num_votes = []\n",
    "percent_votes = []\n",
    "total_votes = 0\n",
    "\n",
    "with open(file_path, newline = \"\") as csvfile:\n",
    "    csvreader = csv.reader(csvfile, delimiter = \",\")\n",
    "    csv_header = next(csvreader)\n",
    "\n",
    "    for row in csvreader:\n",
    "        \n",
    "        total_votes += 1 \n",
    "\n",
    "        if row[2] not in candidates:\n",
    "            candidates.append(row[2])\n",
    "            index = candidates.index(row[2])\n",
    "            num_votes.append(1)\n",
    "        else:\n",
    "            index = candidates.index(row[2])\n",
    "            num_votes[index] += 1\n",
    "    \n",
    "    for votes in num_votes:\n",
    "        percentage = (votes/total_votes) * 100\n",
    "        percentage = (percentage)\n",
    "        percentage = \"%.3f%%\" % percentage\n",
    "        percent_votes.append(percentage)\n",
    "    \n",
    "    winner = max(num_votes)\n",
    "    index = num_votes.index(winner)\n",
    "    winning_candidate = candidates[index]\n",
    "\n",
    "print(\"Election Results\")\n",
    "print(\"--------------------------\")\n",
    "print(f\"Total Votes: {str(total_votes)}\")\n",
    "print(\"--------------------------\")\n",
    "for i in range(len(candidates)):\n",
    "    print(f\"{candidates[i]}: {str(percent_votes[i])} ({str(num_votes[i])})\")\n",
    "print(\"--------------------------\")\n",
    "print(f\"Winner: {winning_candidate}\")\n",
    "print(\"--------------------------\")\n",
    "\n",
    "with open(output_file, \"w\") as text:\n",
    "    text.write(f\"Election Results\\n\")\n",
    "    text.write(f\"--------------------------\\n\")\n",
    "    text.write(f\"Total Votes: {str(total_votes)}\\n\")\n",
    "    text.write(f\"--------------------------\\n\")\n",
    "    for i in range(len(candidates)):\n",
    "        text.write(f\"{candidates[i]}: {str(percent_votes[i])} ({str(num_votes[i])})\\n\")\n",
    "        text.write(f\"--------------------------\\n\")\n",
    "        text.write(f\"Winner: {winning_candidate}\\n\")\n",
    "        text.write(f\"--------------------------\\n\")\n"
   ]
  }
 ],
 "metadata": {
  "kernelspec": {
   "display_name": "base",
   "language": "python",
   "name": "python3"
  },
  "language_info": {
   "codemirror_mode": {
    "name": "ipython",
    "version": 3
   },
   "file_extension": ".py",
   "mimetype": "text/x-python",
   "name": "python",
   "nbconvert_exporter": "python",
   "pygments_lexer": "ipython3",
   "version": "3.11.5"
  }
 },
 "nbformat": 4,
 "nbformat_minor": 2
}
